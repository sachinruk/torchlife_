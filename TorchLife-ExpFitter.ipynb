{
 "cells": [
  {
   "cell_type": "markdown",
   "metadata": {},
   "source": [
    "# PieceWise Exponential Fitter"
   ]
  },
  {
   "cell_type": "code",
   "execution_count": 2,
   "metadata": {},
   "outputs": [],
   "source": [
    "import torch\n",
    "import torch.nn as nn\n",
    "import torch.nn.functional as F\n",
    "\n",
    "from fastai.data_block import DataBunch, DatasetType\n",
    "from fastai.basics import Learner\n",
    "\n",
    "import numpy as np\n",
    "from sklearn.model_selection import train_test_split\n",
    "\n",
    "from scipy.stats import gaussian_kde\n",
    "from scipy.optimize import root_scalar\n",
    "\n",
    "from torch.utils.data import Dataset, DataLoader\n",
    "from torch import optim\n",
    "\n",
    "import matplotlib.pyplot as plt\n",
    "\n",
    "from lifelines.datasets import load_rossi\n",
    "from lifelines import KaplanMeierFitter, PiecewiseExponentialFitter\n",
    "\n",
    "%matplotlib inline"
   ]
  },
  {
   "cell_type": "code",
   "execution_count": 3,
   "metadata": {},
   "outputs": [
    {
     "name": "stdout",
     "output_type": "stream",
     "text": [
      "Index(['fin', 'age', 'race', 'wexp', 'mar', 'paro', 'prio'], dtype='object')\n",
      "(432, 7) (432,) (432,)\n"
     ]
    }
   ],
   "source": [
    "def get_rossi_dataset():\n",
    "    df = load_rossi()\n",
    "\n",
    "    T_train = df.pop(\"week\").values\n",
    "    E_train = df.pop(\"arrest\").values\n",
    "    print(df.columns)\n",
    "    X_train = df.values\n",
    "\n",
    "    return X_train, T_train, E_train\n",
    "\n",
    "\n",
    "x_train, t_train, e_train = get_rossi_dataset()\n",
    "print(x_train.shape, t_train.shape, e_train.shape)\n",
    "max_t = t_train.max()\n",
    "\n",
    "split = train_test_split(x_train, t_train, e_train, test_size=0.2)\n",
    "x_train, x_test, t_train, t_test, e_train, e_test = split\n",
    "split = train_test_split(x_train, t_train, e_train, test_size=0.1)\n",
    "x_train, x_val, t_train, t_val, e_train, e_val = split"
   ]
  },
  {
   "cell_type": "code",
   "execution_count": 4,
   "metadata": {},
   "outputs": [
    {
     "name": "stdout",
     "output_type": "stream",
     "text": [
      "[14.2 24.  36.  44. ]\n"
     ]
    },
    {
     "data": {
      "image/png": "[encoded data removed]",
      "text/plain": [
       "<Figure size 432x288 with 1 Axes>"
      ]
     },
     "metadata": {
      "needs_background": "light"
     },
     "output_type": "display_data"
    }
   ],
   "source": [
    "breakpoints = np.percentile(t_train[(e_train).astype(bool)], [20, 40, 60, 80])\n",
    "print(breakpoints)\n",
    "\n",
    "plt.hist(t_train[(e_train).astype(bool)], 20, density=True, cumulative=True)\n",
    "plt.show()"
   ]
  },
  {
   "cell_type": "code",
   "execution_count": 5,
   "metadata": {},
   "outputs": [],
   "source": [
    "class Data(Dataset):\n",
    "    def __init__(self, x, t, e, breakpoints):\n",
    "        super().__init__()\n",
    "        self.x, self.t, self.e = x, t, e\n",
    "        self.b = breakpoints\n",
    "        \n",
    "    def __len__(self):\n",
    "        return len(self.x)\n",
    "    \n",
    "    def __getitem__(self, i):\n",
    "#         import pdb; pdb.set_trace()\n",
    "        x = torch.Tensor(self.x[i])\n",
    "        time = torch.Tensor([self.t[i]])\n",
    "        t_section = torch.LongTensor([np.searchsorted(self.b, self.t[i])])\n",
    "        e = torch.Tensor([self.e[i]])\n",
    "        return (x, time, t_section.squeeze()), e\n",
    "    \n",
    "train_ds = Data(x_train, t_train, e_train, breakpoints)\n",
    "val_ds = Data(x_val, t_val, e_val, breakpoints)\n",
    "test_ds = Data(x_test, t_test, e_test, breakpoints)\n",
    "\n",
    "bs = 96\n",
    "db = DataBunch.create(train_ds, val_ds, bs=bs)\n",
    "test_db = DataLoader(test_ds, batch_size=64)"
   ]
  },
  {
   "cell_type": "code",
   "execution_count": 6,
   "metadata": {},
   "outputs": [],
   "source": [
    "class PieceWiseHazard(nn.Module):\n",
    "    def __init__(self, breakpoints, max_t):\n",
    "        super().__init__()\n",
    "        self.logλ = nn.Embedding(len(breakpoints)+1, 1)\n",
    "        self.breakpoints = torch.Tensor([0] + breakpoints.tolist())\n",
    "        bounded_bp = [0] + breakpoints.tolist() + [max_t]\n",
    "        self.widths = torch.Tensor(np.diff(bounded_bp).tolist())[:,None]\n",
    "        self.zero = torch.zeros(1,1)\n",
    "        self.max_t = max_t\n",
    "        \n",
    "    def cumulative_hazard(self, t, t_section):\n",
    "        λ = torch.exp(self.logλ.weight)\n",
    "\n",
    "        # cumulative hazard \n",
    "        cum_hazard = λ * self.widths\n",
    "        cum_hazard = cum_hazard.cumsum(0)\n",
    "        cum_hazard = torch.cat([self.zero, cum_hazard])\n",
    "        cum_hazard_sec = cum_hazard[t_section]\n",
    "        \n",
    "        δ_t = t - self.breakpoints[t_section][:,None]\n",
    "        \n",
    "        return cum_hazard_sec + λ[t_section] * δ_t\n",
    "        \n",
    "        \n",
    "    def forward(self, x, t, t_section):\n",
    "        return self.logλ(t_section), self.cumulative_hazard(t, t_section)\n",
    "    \n",
    "    def plot_survival_function(self):\n",
    "        # get the times and time sections for survival function\n",
    "        t_query = np.arange(self.max_t+10)\n",
    "        breakpoints = self.breakpoints[1:].cpu().numpy()\n",
    "        t_sec_query = np.searchsorted(breakpoints, t_query)\n",
    "        # convert to pytorch tensors\n",
    "        t_query = torch.Tensor(t_query)[:,None]\n",
    "        t_sec_query = torch.LongTensor(t_sec_query)\n",
    "        \n",
    "        # calculate cumulative hazard according to above\n",
    "        cum_haz = self.cumulative_hazard(t_query, t_sec_query)\n",
    "        surv_fun = torch.exp(-cum_haz).detach().cpu().numpy()\n",
    "        \n",
    "        # plot\n",
    "        plt.figure(figsize=(12,5))\n",
    "        plt.plot(t_query, surv_fun)\n",
    "        plt.show()\n",
    "        \n",
    "    def plot_hazard(self):\n",
    "        width = self.widths.cpu().numpy().squeeze()\n",
    "        x = self.breakpoints.cpu().numpy().squeeze()\n",
    "        λ = torch.exp(self.logλ.weight)\n",
    "        y = λ.detach().cpu().numpy().squeeze()\n",
    "        # plot\n",
    "        plt.figure(figsize=(12,5))\n",
    "        plt.bar(x, y, width, align='edge')\n",
    "        plt.show()"
   ]
  },
  {
   "cell_type": "code",
   "execution_count": 7,
   "metadata": {},
   "outputs": [],
   "source": [
    "def loss(params, e):\n",
    "    logλ, Λ = params # unpack the estimates parameters\n",
    "    log_lik = e * logλ - Λ\n",
    "    return -log_lik.mean()"
   ]
  },
  {
   "cell_type": "code",
   "execution_count": 8,
   "metadata": {},
   "outputs": [
    {
     "data": {
      "text/html": [],
      "text/plain": [
       "<IPython.core.display.HTML object>"
      ]
     },
     "metadata": {},
     "output_type": "display_data"
    },
    {
     "name": "stdout",
     "output_type": "stream",
     "text": [
      "LR Finder is complete, type {learner_name}.recorder.plot() to see the graph.\n"
     ]
    },
    {
     "data": {
      "image/png": "[encoded data removed]",
      "text/plain": [
       "<Figure size 432x288 with 1 Axes>"
      ]
     },
     "metadata": {
      "needs_background": "light"
     },
     "output_type": "display_data"
    }
   ],
   "source": [
    "model = PieceWiseHazard(breakpoints, t_train.max())\n",
    "learner = Learner(db, model, loss_func=loss)\n",
    "# wd = 1e-4\n",
    "learner.lr_find()\n",
    "learner.recorder.plot(skip_end=0)"
   ]
  },
  {
   "cell_type": "code",
   "execution_count": 13,
   "metadata": {},
   "outputs": [
    {
     "data": {
      "text/html": [
       "<table border=\"1\" class=\"dataframe\">\n",
       "  <thead>\n",
       "    <tr style=\"text-align: left;\">\n",
       "      <th>epoch</th>\n",
       "      <th>train_loss</th>\n",
       "      <th>valid_loss</th>\n",
       "      <th>time</th>\n",
       "    </tr>\n",
       "  </thead>\n",
       "  <tbody>\n",
       "    <tr>\n",
       "      <td>0</td>\n",
       "      <td>1.699139</td>\n",
       "      <td>1.720986</td>\n",
       "      <td>00:00</td>\n",
       "    </tr>\n",
       "    <tr>\n",
       "      <td>1</td>\n",
       "      <td>1.690583</td>\n",
       "      <td>1.719111</td>\n",
       "      <td>00:00</td>\n",
       "    </tr>\n",
       "    <tr>\n",
       "      <td>2</td>\n",
       "      <td>1.703900</td>\n",
       "      <td>1.715568</td>\n",
       "      <td>00:00</td>\n",
       "    </tr>\n",
       "    <tr>\n",
       "      <td>3</td>\n",
       "      <td>1.706533</td>\n",
       "      <td>1.709649</td>\n",
       "      <td>00:00</td>\n",
       "    </tr>\n",
       "    <tr>\n",
       "      <td>4</td>\n",
       "      <td>1.712053</td>\n",
       "      <td>1.701683</td>\n",
       "      <td>00:00</td>\n",
       "    </tr>\n",
       "    <tr>\n",
       "      <td>5</td>\n",
       "      <td>1.706195</td>\n",
       "      <td>1.691734</td>\n",
       "      <td>00:00</td>\n",
       "    </tr>\n",
       "    <tr>\n",
       "      <td>6</td>\n",
       "      <td>1.693129</td>\n",
       "      <td>1.681012</td>\n",
       "      <td>00:00</td>\n",
       "    </tr>\n",
       "    <tr>\n",
       "      <td>7</td>\n",
       "      <td>1.698003</td>\n",
       "      <td>1.671061</td>\n",
       "      <td>00:00</td>\n",
       "    </tr>\n",
       "    <tr>\n",
       "      <td>8</td>\n",
       "      <td>1.700432</td>\n",
       "      <td>1.664652</td>\n",
       "      <td>00:00</td>\n",
       "    </tr>\n",
       "    <tr>\n",
       "      <td>9</td>\n",
       "      <td>1.702640</td>\n",
       "      <td>1.661366</td>\n",
       "      <td>00:00</td>\n",
       "    </tr>\n",
       "    <tr>\n",
       "      <td>10</td>\n",
       "      <td>1.699827</td>\n",
       "      <td>1.659576</td>\n",
       "      <td>00:00</td>\n",
       "    </tr>\n",
       "    <tr>\n",
       "      <td>11</td>\n",
       "      <td>1.692757</td>\n",
       "      <td>1.658345</td>\n",
       "      <td>00:00</td>\n",
       "    </tr>\n",
       "    <tr>\n",
       "      <td>12</td>\n",
       "      <td>1.689973</td>\n",
       "      <td>1.657453</td>\n",
       "      <td>00:00</td>\n",
       "    </tr>\n",
       "    <tr>\n",
       "      <td>13</td>\n",
       "      <td>1.685962</td>\n",
       "      <td>1.653037</td>\n",
       "      <td>00:00</td>\n",
       "    </tr>\n",
       "    <tr>\n",
       "      <td>14</td>\n",
       "      <td>1.683654</td>\n",
       "      <td>1.652066</td>\n",
       "      <td>00:00</td>\n",
       "    </tr>\n",
       "    <tr>\n",
       "      <td>15</td>\n",
       "      <td>1.681464</td>\n",
       "      <td>1.652562</td>\n",
       "      <td>00:00</td>\n",
       "    </tr>\n",
       "    <tr>\n",
       "      <td>16</td>\n",
       "      <td>1.675480</td>\n",
       "      <td>1.649722</td>\n",
       "      <td>00:00</td>\n",
       "    </tr>\n",
       "    <tr>\n",
       "      <td>17</td>\n",
       "      <td>1.676520</td>\n",
       "      <td>1.649042</td>\n",
       "      <td>00:00</td>\n",
       "    </tr>\n",
       "    <tr>\n",
       "      <td>18</td>\n",
       "      <td>1.676349</td>\n",
       "      <td>1.650514</td>\n",
       "      <td>00:00</td>\n",
       "    </tr>\n",
       "    <tr>\n",
       "      <td>19</td>\n",
       "      <td>1.674583</td>\n",
       "      <td>1.651173</td>\n",
       "      <td>00:00</td>\n",
       "    </tr>\n",
       "    <tr>\n",
       "      <td>20</td>\n",
       "      <td>1.674690</td>\n",
       "      <td>1.649538</td>\n",
       "      <td>00:00</td>\n",
       "    </tr>\n",
       "    <tr>\n",
       "      <td>21</td>\n",
       "      <td>1.674602</td>\n",
       "      <td>1.648344</td>\n",
       "      <td>00:00</td>\n",
       "    </tr>\n",
       "    <tr>\n",
       "      <td>22</td>\n",
       "      <td>1.667029</td>\n",
       "      <td>1.646086</td>\n",
       "      <td>00:00</td>\n",
       "    </tr>\n",
       "    <tr>\n",
       "      <td>23</td>\n",
       "      <td>1.664547</td>\n",
       "      <td>1.644988</td>\n",
       "      <td>00:00</td>\n",
       "    </tr>\n",
       "    <tr>\n",
       "      <td>24</td>\n",
       "      <td>1.666178</td>\n",
       "      <td>1.643454</td>\n",
       "      <td>00:00</td>\n",
       "    </tr>\n",
       "    <tr>\n",
       "      <td>25</td>\n",
       "      <td>1.663964</td>\n",
       "      <td>1.643203</td>\n",
       "      <td>00:00</td>\n",
       "    </tr>\n",
       "    <tr>\n",
       "      <td>26</td>\n",
       "      <td>1.665247</td>\n",
       "      <td>1.642457</td>\n",
       "      <td>00:00</td>\n",
       "    </tr>\n",
       "    <tr>\n",
       "      <td>27</td>\n",
       "      <td>1.667712</td>\n",
       "      <td>1.641521</td>\n",
       "      <td>00:00</td>\n",
       "    </tr>\n",
       "    <tr>\n",
       "      <td>28</td>\n",
       "      <td>1.666377</td>\n",
       "      <td>1.640993</td>\n",
       "      <td>00:00</td>\n",
       "    </tr>\n",
       "    <tr>\n",
       "      <td>29</td>\n",
       "      <td>1.666476</td>\n",
       "      <td>1.639807</td>\n",
       "      <td>00:00</td>\n",
       "    </tr>\n",
       "    <tr>\n",
       "      <td>30</td>\n",
       "      <td>1.665351</td>\n",
       "      <td>1.638689</td>\n",
       "      <td>00:00</td>\n",
       "    </tr>\n",
       "    <tr>\n",
       "      <td>31</td>\n",
       "      <td>1.666221</td>\n",
       "      <td>1.637810</td>\n",
       "      <td>00:00</td>\n",
       "    </tr>\n",
       "    <tr>\n",
       "      <td>32</td>\n",
       "      <td>1.663941</td>\n",
       "      <td>1.637063</td>\n",
       "      <td>00:00</td>\n",
       "    </tr>\n",
       "    <tr>\n",
       "      <td>33</td>\n",
       "      <td>1.663814</td>\n",
       "      <td>1.636466</td>\n",
       "      <td>00:00</td>\n",
       "    </tr>\n",
       "    <tr>\n",
       "      <td>34</td>\n",
       "      <td>1.661710</td>\n",
       "      <td>1.636054</td>\n",
       "      <td>00:00</td>\n",
       "    </tr>\n",
       "    <tr>\n",
       "      <td>35</td>\n",
       "      <td>1.660714</td>\n",
       "      <td>1.635815</td>\n",
       "      <td>00:00</td>\n",
       "    </tr>\n",
       "    <tr>\n",
       "      <td>36</td>\n",
       "      <td>1.659883</td>\n",
       "      <td>1.635610</td>\n",
       "      <td>00:00</td>\n",
       "    </tr>\n",
       "    <tr>\n",
       "      <td>37</td>\n",
       "      <td>1.657036</td>\n",
       "      <td>1.635481</td>\n",
       "      <td>00:00</td>\n",
       "    </tr>\n",
       "    <tr>\n",
       "      <td>38</td>\n",
       "      <td>1.657438</td>\n",
       "      <td>1.635428</td>\n",
       "      <td>00:00</td>\n",
       "    </tr>\n",
       "    <tr>\n",
       "      <td>39</td>\n",
       "      <td>1.656734</td>\n",
       "      <td>1.635418</td>\n",
       "      <td>00:00</td>\n",
       "    </tr>\n",
       "  </tbody>\n",
       "</table>"
      ],
      "text/plain": [
       "<IPython.core.display.HTML object>"
      ]
     },
     "metadata": {},
     "output_type": "display_data"
    }
   ],
   "source": [
    "epochs = 40\n",
    "learner.fit_one_cycle(epochs, max_lr=2)"
   ]
  },
  {
   "cell_type": "code",
   "execution_count": 14,
   "metadata": {},
   "outputs": [
    {
     "data": {
      "image/png": "[encoded data removed]",
      "text/plain": [
       "<Figure size 864x360 with 1 Axes>"
      ]
     },
     "metadata": {
      "needs_background": "light"
     },
     "output_type": "display_data"
    },
    {
     "data": {
      "image/png": "[encoded data removed]",
      "text/plain": [
       "<Figure size 864x360 with 1 Axes>"
      ]
     },
     "metadata": {
      "needs_background": "light"
     },
     "output_type": "display_data"
    }
   ],
   "source": [
    "learner.model.plot_hazard()\n",
    "learner.model.plot_survival_function()"
   ]
  },
  {
   "cell_type": "code",
   "execution_count": 15,
   "metadata": {},
   "outputs": [
    {
     "data": {
      "image/png": "[encoded data removed]",
      "text/plain": [
       "<Figure size 864x360 with 1 Axes>"
      ]
     },
     "metadata": {
      "needs_background": "light"
     },
     "output_type": "display_data"
    },
    {
     "data": {
      "image/png": "[encoded data removed]",
      "text/plain": [
       "<Figure size 864x360 with 1 Axes>"
      ]
     },
     "metadata": {
      "needs_background": "light"
     },
     "output_type": "display_data"
    }
   ],
   "source": [
    "pf = PiecewiseExponentialFitter(breakpoints=breakpoints).fit(t_train, e_train)\n",
    "plt.figure(figsize=(12,5))\n",
    "plt.plot(np.arange(max_t), pf.hazard_at_times(np.arange(max_t)))\n",
    "plt.show()\n",
    "pf.plot_survival_function(figsize=(12,5))\n",
    "plt.title('Survival function - Lifelines')\n",
    "plt.show()"
   ]
  },
  {
   "cell_type": "code",
   "execution_count": 16,
   "metadata": {},
   "outputs": [
    {
     "data": {
      "image/png": "[encoded data removed]",
      "text/plain": [
       "<Figure size 864x360 with 1 Axes>"
      ]
     },
     "metadata": {
      "needs_background": "light"
     },
     "output_type": "display_data"
    }
   ],
   "source": [
    "kmf = KaplanMeierFitter()\n",
    "kmf.fit(t_train, event_observed=e_train)\n",
    "kmf.survival_function_.plot(figsize=(12,5))\n",
    "plt.show()"
   ]
  },
  {
   "cell_type": "code",
   "execution_count": null,
   "metadata": {},
   "outputs": [],
   "source": []
  }
 ],
 "metadata": {
  "kernelspec": {
   "display_name": "Python 3",
   "language": "python",
   "name": "python3"
  },
  "language_info": {
   "codemirror_mode": {
    "name": "ipython",
    "version": 3
   },
   "file_extension": ".py",
   "mimetype": "text/x-python",
   "name": "python",
   "nbconvert_exporter": "python",
   "pygments_lexer": "ipython3",
   "version": "3.6.9"
  }
 },
 "nbformat": 4,
 "nbformat_minor": 2
}
