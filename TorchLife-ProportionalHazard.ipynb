{
 "cells": [
  {
   "cell_type": "markdown",
   "metadata": {},
   "source": [
    "# PieceWise Exponential + Proportional Hazard"
   ]
  },
  {
   "cell_type": "code",
   "execution_count": 2,
   "metadata": {},
   "outputs": [],
   "source": [
    "import torch\n",
    "import torch.nn as nn\n",
    "import torch.nn.functional as F\n",
    "\n",
    "from fastai.data_block import DataBunch, DatasetType\n",
    "from fastai.basics import Learner\n",
    "\n",
    "import numpy as np\n",
    "from sklearn.model_selection import train_test_split\n",
    "\n",
    "from scipy.stats import gaussian_kde\n",
    "from scipy.optimize import root_scalar\n",
    "\n",
    "from torch.utils.data import Dataset, DataLoader\n",
    "from torch import optim\n",
    "\n",
    "import matplotlib.pyplot as plt\n",
    "\n",
    "from lifelines.datasets import load_rossi\n",
    "from lifelines import KaplanMeierFitter, PiecewiseExponentialFitter\n",
    "\n",
    "%matplotlib inline"
   ]
  },
  {
   "cell_type": "code",
   "execution_count": 3,
   "metadata": {},
   "outputs": [
    {
     "name": "stdout",
     "output_type": "stream",
     "text": [
      "Index(['fin', 'age', 'race', 'wexp', 'mar', 'paro', 'prio'], dtype='object')\n",
      "(432, 7) (432,) (432,)\n"
     ]
    }
   ],
   "source": [
    "def get_rossi_dataset():\n",
    "    df = load_rossi()\n",
    "\n",
    "    T_train = df.pop(\"week\").values\n",
    "    E_train = df.pop(\"arrest\").values\n",
    "    print(df.columns)\n",
    "    X_train = df.values\n",
    "\n",
    "    return X_train, T_train, E_train\n",
    "\n",
    "\n",
    "x_train, t_train, e_train = get_rossi_dataset()\n",
    "print(x_train.shape, t_train.shape, e_train.shape)\n",
    "max_t = t_train.max()\n",
    "\n",
    "split = train_test_split(x_train, t_train, e_train, test_size=0.2)\n",
    "x_train, x_test, t_train, t_test, e_train, e_test = split\n",
    "split = train_test_split(x_train, t_train, e_train, test_size=0.1)\n",
    "x_train, x_val, t_train, t_val, e_train, e_val = split"
   ]
  },
  {
   "cell_type": "code",
   "execution_count": 4,
   "metadata": {},
   "outputs": [
    {
     "name": "stdout",
     "output_type": "stream",
     "text": [
      "[15.6 24.2 35.  45. ]\n"
     ]
    },
    {
     "data": {
      "image/png": "[encoded data removed]",
      "text/plain": [
       "<Figure size 432x288 with 1 Axes>"
      ]
     },
     "metadata": {
      "needs_background": "light"
     },
     "output_type": "display_data"
    }
   ],
   "source": [
    "breakpoints = np.percentile(t_train[(e_train).astype(bool)], [20, 40, 60, 80])\n",
    "print(breakpoints)\n",
    "\n",
    "plt.hist(t_train[(e_train).astype(bool)], 20, density=True, cumulative=True)\n",
    "plt.show()"
   ]
  },
  {
   "cell_type": "code",
   "execution_count": 6,
   "metadata": {},
   "outputs": [],
   "source": [
    "class Data(Dataset):\n",
    "    def __init__(self, x, t, e, breakpoints, mean, std):\n",
    "        super().__init__()\n",
    "        self.x, self.t, self.e = x, t, e\n",
    "        self.mean, self.std = torch.Tensor(mean), torch.Tensor(std)\n",
    "        self.b = breakpoints\n",
    "        \n",
    "    def __len__(self):\n",
    "        return len(self.x)\n",
    "    \n",
    "    def __getitem__(self, i):\n",
    "#         import pdb; pdb.set_trace()\n",
    "        x = torch.Tensor(self.x[i])\n",
    "#         import pdb; pdb.set_trace()\n",
    "        x = (x - self.mean) / self.std\n",
    "        time = torch.Tensor([self.t[i]])\n",
    "        t_section = torch.LongTensor([np.searchsorted(self.b, self.t[i])])\n",
    "        e = torch.Tensor([self.e[i]])\n",
    "        return (x, time, t_section.squeeze()), e\n",
    "    \n",
    "mean, std = x_train.mean(0), x_train.std(0)\n",
    "train_ds = Data(x_train, t_train, e_train, breakpoints, mean, std)\n",
    "val_ds = Data(x_val, t_val, e_val, breakpoints, mean, std)\n",
    "test_ds = Data(x_test, t_test, e_test, breakpoints, mean, std)\n",
    "\n",
    "bs = 96\n",
    "db = DataBunch.create(train_ds, val_ds, bs=bs)\n",
    "test_db = DataLoader(test_ds, batch_size=bs)"
   ]
  },
  {
   "cell_type": "code",
   "execution_count": 7,
   "metadata": {},
   "outputs": [],
   "source": [
    "class PieceWiseHazard(nn.Module):\n",
    "    def __init__(self, breakpoints, max_t):\n",
    "        super().__init__()\n",
    "        self.logλ = nn.Embedding(len(breakpoints)+1, 1)\n",
    "        self.breakpoints = torch.Tensor([0] + breakpoints.tolist())\n",
    "        bounded_bp = [0] + breakpoints.tolist() + [max_t]\n",
    "        self.widths = torch.Tensor(np.diff(bounded_bp).tolist())[:,None]\n",
    "        self.zero = torch.zeros(1,1)\n",
    "        self.max_t = max_t\n",
    "        \n",
    "    def cumulative_hazard(self, t, t_section):\n",
    "        λ = torch.exp(self.logλ.weight)\n",
    "\n",
    "        # cumulative hazard \n",
    "        cum_hazard = λ * self.widths\n",
    "        cum_hazard = cum_hazard.cumsum(0)\n",
    "        cum_hazard = torch.cat([self.zero, cum_hazard])\n",
    "        cum_hazard_sec = cum_hazard[t_section]\n",
    "        \n",
    "        δ_t = t - self.breakpoints[t_section][:,None]\n",
    "        \n",
    "        return cum_hazard_sec + λ[t_section] * δ_t\n",
    "        \n",
    "        \n",
    "    def forward(self, t, t_section):\n",
    "        return self.logλ(t_section), self.cumulative_hazard(t, t_section)\n",
    "    \n",
    "    def plot_survival_function(self):\n",
    "        # get the times and time sections for survival function\n",
    "        t_query = np.arange(self.max_t+10)\n",
    "        breakpoints = self.breakpoints[1:].cpu().numpy()\n",
    "        t_sec_query = np.searchsorted(breakpoints, t_query)\n",
    "        # convert to pytorch tensors\n",
    "        t_query = torch.Tensor(t_query)[:,None]\n",
    "        t_sec_query = torch.LongTensor(t_sec_query)\n",
    "        \n",
    "        # calculate cumulative hazard according to above\n",
    "        cum_haz = self.cumulative_hazard(t_query, t_sec_query)\n",
    "        surv_fun = torch.exp(-cum_haz).detach().cpu().numpy()\n",
    "        \n",
    "        # plot\n",
    "        plt.figure(figsize=(12,5))\n",
    "        plt.plot(t_query, surv_fun)\n",
    "#         plt.show()\n",
    "        \n",
    "    def plot_hazard(self):\n",
    "        width = self.widths.cpu().numpy().squeeze()\n",
    "        x = self.breakpoints.cpu().numpy().squeeze()\n",
    "        λ = torch.exp(self.logλ.weight)\n",
    "        y = λ.detach().cpu().numpy().squeeze()\n",
    "        # plot\n",
    "        plt.figure(figsize=(12,5))\n",
    "        plt.bar(x, y, width, align='edge')\n",
    "        plt.show()"
   ]
  },
  {
   "cell_type": "code",
   "execution_count": 8,
   "metadata": {},
   "outputs": [],
   "source": [
    "class ProportionalHazard(nn.Module):\n",
    "    def __init__(self, breakpoints, max_t, dim, h=()):\n",
    "        super().__init__()\n",
    "        self.baseλ = PieceWiseHazard(breakpoints, max_t)\n",
    "        nodes = (dim,) + h + (1,)\n",
    "        self.layers = [nn.Linear(a,b, bias=False) for a,b in zip(nodes[:-1], nodes[1:])]\n",
    "        self.max_t = max_t\n",
    "        \n",
    "    def forward(self, x, t, t_section):\n",
    "        for layer in self.layers[:-1]:\n",
    "            x = F.relu(layer(x))\n",
    "        log_hazard = self.layers[-1](x)\n",
    "        logλ, Λ = self.baseλ(t, t_section)\n",
    "        logλ += log_hazard\n",
    "        Λ = torch.exp(log_hazard + torch.log(Λ))\n",
    "        return logλ, Λ\n",
    "    \n",
    "    def plot_survival_function(self, x):\n",
    "        x = torch.Tensor(x)\n",
    "        if len(x.shape) < 2:\n",
    "            x = x[None, :]\n",
    "        # get the times and time sections for survival function\n",
    "        t_query = np.arange(self.max_t+10)\n",
    "        breakpoints = self.baseλ.breakpoints[1:].cpu().numpy()\n",
    "        t_sec_query = np.searchsorted(breakpoints, t_query)\n",
    "        # convert to pytorch tensors\n",
    "        t_query = torch.Tensor(t_query)[:,None]\n",
    "        t_sec_query = torch.LongTensor(t_sec_query)\n",
    "        \n",
    "        \n",
    "        # calculate cumulative hazard according to above\n",
    "        λ, cum_haz = self.forward(x, t_query, t_sec_query)\n",
    "        surv_fun = torch.exp(-cum_haz).detach().cpu().numpy()\n",
    "        \n",
    "        # plot\n",
    "        plt.figure(figsize=(12,5))\n",
    "        plt.plot(t_query, surv_fun)"
   ]
  },
  {
   "cell_type": "code",
   "execution_count": 9,
   "metadata": {},
   "outputs": [],
   "source": [
    "def loss(params, e):\n",
    "    logλ, Λ = params # unpack the estimates parameters\n",
    "    log_lik = e * logλ - Λ\n",
    "    return -log_lik.mean()"
   ]
  },
  {
   "cell_type": "code",
   "execution_count": 10,
   "metadata": {},
   "outputs": [
    {
     "data": {
      "text/html": [],
      "text/plain": [
       "<IPython.core.display.HTML object>"
      ]
     },
     "metadata": {},
     "output_type": "display_data"
    },
    {
     "name": "stdout",
     "output_type": "stream",
     "text": [
      "LR Finder is complete, type {learner_name}.recorder.plot() to see the graph.\n"
     ]
    },
    {
     "data": {
      "image/png": "[encoded data removed]",
      "text/plain": [
       "<Figure size 432x288 with 1 Axes>"
      ]
     },
     "metadata": {
      "needs_background": "light"
     },
     "output_type": "display_data"
    }
   ],
   "source": [
    "model = ProportionalHazard(breakpoints, t_train.max(), x_train.shape[1])\n",
    "learner = Learner(db, model, loss_func=loss)\n",
    "# wd = 1e-4\n",
    "learner.lr_find()\n",
    "learner.recorder.plot(skip_end=0)"
   ]
  },
  {
   "cell_type": "code",
   "execution_count": 11,
   "metadata": {
    "scrolled": true
   },
   "outputs": [
    {
     "data": {
      "text/html": [
       "<table border=\"1\" class=\"dataframe\">\n",
       "  <thead>\n",
       "    <tr style=\"text-align: left;\">\n",
       "      <th>epoch</th>\n",
       "      <th>train_loss</th>\n",
       "      <th>valid_loss</th>\n",
       "      <th>time</th>\n",
       "    </tr>\n",
       "  </thead>\n",
       "  <tbody>\n",
       "    <tr>\n",
       "      <td>0</td>\n",
       "      <td>46.384586</td>\n",
       "      <td>34.146030</td>\n",
       "      <td>00:00</td>\n",
       "    </tr>\n",
       "    <tr>\n",
       "      <td>1</td>\n",
       "      <td>40.209522</td>\n",
       "      <td>23.170523</td>\n",
       "      <td>00:00</td>\n",
       "    </tr>\n",
       "    <tr>\n",
       "      <td>2</td>\n",
       "      <td>33.811680</td>\n",
       "      <td>12.539477</td>\n",
       "      <td>00:00</td>\n",
       "    </tr>\n",
       "    <tr>\n",
       "      <td>3</td>\n",
       "      <td>27.605543</td>\n",
       "      <td>5.828071</td>\n",
       "      <td>00:00</td>\n",
       "    </tr>\n",
       "    <tr>\n",
       "      <td>4</td>\n",
       "      <td>22.463356</td>\n",
       "      <td>3.036703</td>\n",
       "      <td>00:00</td>\n",
       "    </tr>\n",
       "    <tr>\n",
       "      <td>5</td>\n",
       "      <td>18.591583</td>\n",
       "      <td>2.270426</td>\n",
       "      <td>00:00</td>\n",
       "    </tr>\n",
       "    <tr>\n",
       "      <td>6</td>\n",
       "      <td>15.724029</td>\n",
       "      <td>2.216608</td>\n",
       "      <td>00:00</td>\n",
       "    </tr>\n",
       "    <tr>\n",
       "      <td>7</td>\n",
       "      <td>13.553782</td>\n",
       "      <td>2.335914</td>\n",
       "      <td>00:00</td>\n",
       "    </tr>\n",
       "    <tr>\n",
       "      <td>8</td>\n",
       "      <td>11.879812</td>\n",
       "      <td>2.445920</td>\n",
       "      <td>00:00</td>\n",
       "    </tr>\n",
       "    <tr>\n",
       "      <td>9</td>\n",
       "      <td>10.557687</td>\n",
       "      <td>2.495793</td>\n",
       "      <td>00:00</td>\n",
       "    </tr>\n",
       "    <tr>\n",
       "      <td>10</td>\n",
       "      <td>9.477712</td>\n",
       "      <td>2.483386</td>\n",
       "      <td>00:00</td>\n",
       "    </tr>\n",
       "    <tr>\n",
       "      <td>11</td>\n",
       "      <td>8.587947</td>\n",
       "      <td>2.426454</td>\n",
       "      <td>00:00</td>\n",
       "    </tr>\n",
       "    <tr>\n",
       "      <td>12</td>\n",
       "      <td>7.838351</td>\n",
       "      <td>2.347421</td>\n",
       "      <td>00:00</td>\n",
       "    </tr>\n",
       "    <tr>\n",
       "      <td>13</td>\n",
       "      <td>7.191099</td>\n",
       "      <td>2.267901</td>\n",
       "      <td>00:00</td>\n",
       "    </tr>\n",
       "    <tr>\n",
       "      <td>14</td>\n",
       "      <td>6.636093</td>\n",
       "      <td>2.202096</td>\n",
       "      <td>00:00</td>\n",
       "    </tr>\n",
       "    <tr>\n",
       "      <td>15</td>\n",
       "      <td>6.152499</td>\n",
       "      <td>2.160463</td>\n",
       "      <td>00:00</td>\n",
       "    </tr>\n",
       "    <tr>\n",
       "      <td>16</td>\n",
       "      <td>5.731220</td>\n",
       "      <td>2.145775</td>\n",
       "      <td>00:00</td>\n",
       "    </tr>\n",
       "    <tr>\n",
       "      <td>17</td>\n",
       "      <td>5.358411</td>\n",
       "      <td>2.154207</td>\n",
       "      <td>00:00</td>\n",
       "    </tr>\n",
       "    <tr>\n",
       "      <td>18</td>\n",
       "      <td>5.037830</td>\n",
       "      <td>2.175443</td>\n",
       "      <td>00:00</td>\n",
       "    </tr>\n",
       "    <tr>\n",
       "      <td>19</td>\n",
       "      <td>4.750981</td>\n",
       "      <td>2.198641</td>\n",
       "      <td>00:00</td>\n",
       "    </tr>\n",
       "    <tr>\n",
       "      <td>20</td>\n",
       "      <td>4.497955</td>\n",
       "      <td>2.216017</td>\n",
       "      <td>00:00</td>\n",
       "    </tr>\n",
       "    <tr>\n",
       "      <td>21</td>\n",
       "      <td>4.276805</td>\n",
       "      <td>2.226716</td>\n",
       "      <td>00:00</td>\n",
       "    </tr>\n",
       "    <tr>\n",
       "      <td>22</td>\n",
       "      <td>4.076512</td>\n",
       "      <td>2.230254</td>\n",
       "      <td>00:00</td>\n",
       "    </tr>\n",
       "    <tr>\n",
       "      <td>23</td>\n",
       "      <td>3.900617</td>\n",
       "      <td>2.230915</td>\n",
       "      <td>00:00</td>\n",
       "    </tr>\n",
       "    <tr>\n",
       "      <td>24</td>\n",
       "      <td>3.740891</td>\n",
       "      <td>2.229933</td>\n",
       "      <td>00:00</td>\n",
       "    </tr>\n",
       "    <tr>\n",
       "      <td>25</td>\n",
       "      <td>3.592143</td>\n",
       "      <td>2.227650</td>\n",
       "      <td>00:00</td>\n",
       "    </tr>\n",
       "    <tr>\n",
       "      <td>26</td>\n",
       "      <td>3.457673</td>\n",
       "      <td>2.224578</td>\n",
       "      <td>00:00</td>\n",
       "    </tr>\n",
       "    <tr>\n",
       "      <td>27</td>\n",
       "      <td>3.336061</td>\n",
       "      <td>2.221760</td>\n",
       "      <td>00:00</td>\n",
       "    </tr>\n",
       "    <tr>\n",
       "      <td>28</td>\n",
       "      <td>3.219613</td>\n",
       "      <td>2.218932</td>\n",
       "      <td>00:00</td>\n",
       "    </tr>\n",
       "    <tr>\n",
       "      <td>29</td>\n",
       "      <td>3.114119</td>\n",
       "      <td>2.216436</td>\n",
       "      <td>00:00</td>\n",
       "    </tr>\n",
       "    <tr>\n",
       "      <td>30</td>\n",
       "      <td>3.016894</td>\n",
       "      <td>2.214165</td>\n",
       "      <td>00:00</td>\n",
       "    </tr>\n",
       "    <tr>\n",
       "      <td>31</td>\n",
       "      <td>2.927797</td>\n",
       "      <td>2.212145</td>\n",
       "      <td>00:00</td>\n",
       "    </tr>\n",
       "    <tr>\n",
       "      <td>32</td>\n",
       "      <td>2.839839</td>\n",
       "      <td>2.210481</td>\n",
       "      <td>00:00</td>\n",
       "    </tr>\n",
       "    <tr>\n",
       "      <td>33</td>\n",
       "      <td>2.763503</td>\n",
       "      <td>2.209072</td>\n",
       "      <td>00:00</td>\n",
       "    </tr>\n",
       "    <tr>\n",
       "      <td>34</td>\n",
       "      <td>2.691732</td>\n",
       "      <td>2.207997</td>\n",
       "      <td>00:00</td>\n",
       "    </tr>\n",
       "    <tr>\n",
       "      <td>35</td>\n",
       "      <td>2.622259</td>\n",
       "      <td>2.207200</td>\n",
       "      <td>00:00</td>\n",
       "    </tr>\n",
       "    <tr>\n",
       "      <td>36</td>\n",
       "      <td>2.561044</td>\n",
       "      <td>2.206661</td>\n",
       "      <td>00:00</td>\n",
       "    </tr>\n",
       "    <tr>\n",
       "      <td>37</td>\n",
       "      <td>2.505189</td>\n",
       "      <td>2.206365</td>\n",
       "      <td>00:00</td>\n",
       "    </tr>\n",
       "    <tr>\n",
       "      <td>38</td>\n",
       "      <td>2.453105</td>\n",
       "      <td>2.206240</td>\n",
       "      <td>00:00</td>\n",
       "    </tr>\n",
       "    <tr>\n",
       "      <td>39</td>\n",
       "      <td>2.405682</td>\n",
       "      <td>2.206216</td>\n",
       "      <td>00:00</td>\n",
       "    </tr>\n",
       "  </tbody>\n",
       "</table>"
      ],
      "text/plain": [
       "<IPython.core.display.HTML object>"
      ]
     },
     "metadata": {},
     "output_type": "display_data"
    }
   ],
   "source": [
    "epochs = 40\n",
    "learner.fit_one_cycle(epochs, max_lr=2)"
   ]
  },
  {
   "cell_type": "code",
   "execution_count": 12,
   "metadata": {},
   "outputs": [
    {
     "data": {
      "image/png": "[encoded data removed]",
      "text/plain": [
       "<Figure size 864x360 with 1 Axes>"
      ]
     },
     "metadata": {
      "needs_background": "light"
     },
     "output_type": "display_data"
    },
    {
     "data": {
      "image/png": "[encoded data removed]",
      "text/plain": [
       "<Figure size 864x360 with 1 Axes>"
      ]
     },
     "metadata": {
      "needs_background": "light"
     },
     "output_type": "display_data"
    }
   ],
   "source": [
    "learner.model.baseλ.plot_hazard()\n",
    "plt.show()\n",
    "learner.model.plot_survival_function(x_train[:1])\n",
    "plt.show()\n",
    "# learner.model.plot_survival_function()"
   ]
  },
  {
   "cell_type": "code",
   "execution_count": 33,
   "metadata": {},
   "outputs": [
    {
     "data": {
      "image/png": "[encoded data removed]",
      "text/plain": [
       "<Figure size 864x360 with 1 Axes>"
      ]
     },
     "metadata": {
      "needs_background": "light"
     },
     "output_type": "display_data"
    }
   ],
   "source": [
    "learner.model.plot_survival_function(x_test[0])\n",
    "plt.show()"
   ]
  },
  {
   "cell_type": "code",
   "execution_count": 36,
   "metadata": {},
   "outputs": [
    {
     "data": {
      "image/png": "[encoded data removed]",
      "text/plain": [
       "<Figure size 864x360 with 1 Axes>"
      ]
     },
     "metadata": {
      "needs_background": "light"
     },
     "output_type": "display_data"
    }
   ],
   "source": [
    "learner.model.plot_survival_function(x_test[2])\n",
    "plt.show()"
   ]
  },
  {
   "cell_type": "markdown",
   "metadata": {},
   "source": [
    "Lifelines model for comparison:"
   ]
  },
  {
   "cell_type": "code",
   "execution_count": 37,
   "metadata": {},
   "outputs": [
    {
     "data": {
      "image/png": "[encoded data removed]",
      "text/plain": [
       "<Figure size 432x288 with 1 Axes>"
      ]
     },
     "metadata": {
      "needs_background": "light"
     },
     "output_type": "display_data"
    },
    {
     "data": {
      "image/png": "[encoded data removed]",
      "text/plain": [
       "<Figure size 432x288 with 1 Axes>"
      ]
     },
     "metadata": {
      "needs_background": "light"
     },
     "output_type": "display_data"
    },
    {
     "data": {
      "image/png": "[encoded data removed]",
      "text/plain": [
       "<Figure size 432x288 with 1 Axes>"
      ]
     },
     "metadata": {
      "needs_background": "light"
     },
     "output_type": "display_data"
    }
   ],
   "source": [
    "from lifelines import CoxPHFitter\n",
    "\n",
    "cph = CoxPHFitter()\n",
    "data = pd.concat([pd.DataFrame(x_train), pd.DataFrame({'duration':t_train}), pd.DataFrame({'event':e_train})], axis=1)\n",
    "cph.fit(data, 'duration', 'event')\n",
    "\n",
    "# plot survival functions with same data as above\n",
    "cph.predict_survival_function(x_train[:1]).plot()\n",
    "plt.show()\n",
    "cph.predict_survival_function(x_test[:1]).plot()\n",
    "plt.show()\n",
    "cph.predict_survival_function(x_test[2:3]).plot()\n",
    "plt.show()"
   ]
  }
 ],
 "metadata": {
  "kernelspec": {
   "display_name": "Python 3",
   "language": "python",
   "name": "python3"
  }
 },
 "nbformat": 4,
 "nbformat_minor": 2
}
